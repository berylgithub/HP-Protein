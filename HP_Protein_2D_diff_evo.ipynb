{
 "cells": [
  {
   "cell_type": "code",
   "execution_count": 7,
   "metadata": {},
   "outputs": [],
   "source": [
    "import numpy as np\n"
   ]
  },
  {
   "cell_type": "code",
   "execution_count": 81,
   "metadata": {},
   "outputs": [],
   "source": [
    "\n",
    "def count_HP_2D_contacts_absolute(move_seq, hp_seq):\n",
    "    '''\n",
    "    count the contacts within protein (H-H, P-P, H-P) and return the contact tuples\n",
    "    abs move : clockwise, 0=N, 1=E, 2=S, 3=W\n",
    "    hp set : 0=P, 1=H\n",
    "    move length = N-1 ; seq length = N\n",
    "    '''\n",
    "    \n",
    "    move_len = len(move_seq)\n",
    "    seq_len = len(hp_seq)\n",
    "    coords = np.zeros((seq_len,2))\n",
    "    \n",
    "    #movement coordinate translation\n",
    "    move_N = np.array([0,1])\n",
    "    move_E = np.array([1,0])\n",
    "    move_S = np.array([0,-1])\n",
    "    move_W = np.array([-1,0])\n",
    "    moves_coor = np.array([move_N, move_E, move_S, move_W])\n",
    "    \n",
    "    #interpret the movements to coordinate\n",
    "    for i in range(1, seq_len):\n",
    "        '''\n",
    "        if move_seq[i-1] == 0 :\n",
    "            coord[i] = coord[i-1] + move_N\n",
    "        elif move_seq[i-1] == 1 :\n",
    "            coord[i] = coord[i-1] + move_E\n",
    "        elif move_seq[i-1] == 2 :\n",
    "            coord[i] = coord[i-1] + move_S\n",
    "        elif move_seq[i-1] == 3 :\n",
    "            coord[i] = coord[i-1] + move_W\n",
    "        '''  \n",
    "        coords[i] = coords[i-1] + moves_coor[move_seq[i-1]]\n",
    "    \n",
    "    print(coords)\n",
    "    \n",
    "    #find contacts (which is adjacent neighbour but not connected (i & k>=i+3))\n",
    "    contacts = []\n",
    "    for i in range(1, len(coords)):\n",
    "        #check each 4 directions:\n",
    "        for j in range(len(moves_coor)):\n",
    "            neighbour_coor = coords[i]+moves_coor[j]\n",
    "            #check if terminal\n",
    "            if i == len(coords)-1:\n",
    "                #check if not i-1\n",
    "                if (not np.array_equal(neighbour_coor, coords[i-1])) and (neighbour_coor.tolist() in coords.tolist()):\n",
    "                    print((not np.array_equal(neighbour_coor, coords[i-1])), coords[i], moves_coor[j])\n",
    "                    contacts.append((coords[i], neighbour_coor))\n",
    "\n",
    "            else:\n",
    "                #check if not direct neighbours\n",
    "                if ( (not np.array_equal(neighbour_coor, coords[i+1])) and (not np.array_equal(neighbour_coor, coords[i-1])) ) and (neighbour_coor.tolist() in coords.tolist()):\n",
    "                    print((not np.array_equal(neighbour_coor, coords[i+1])), (not np.array_equal(neighbour_coor, coords[i-1])), coords[i], moves_coor[j])\n",
    "                    contacts.append((coords[i], neighbour_coor))\n",
    "\n",
    "    '''\n",
    "    to be continued with contact type identification & set unique contacts\n",
    "    '''\n",
    "    \n",
    "    return contacts"
   ]
  },
  {
   "cell_type": "code",
   "execution_count": 83,
   "metadata": {},
   "outputs": [
    {
     "name": "stdout",
     "output_type": "stream",
     "text": [
      "[[ 0.  0.]\n",
      " [ 1.  0.]\n",
      " [ 1. -1.]\n",
      " [ 0. -1.]\n",
      " [-1. -1.]\n",
      " [-1.  0.]]\n",
      "True True [ 0. -1.] [0 1]\n",
      "True [-1.  0.] [1 0]\n",
      "[(array([ 0., -1.]), array([0., 0.])), (array([-1.,  0.]), array([0., 0.]))]\n"
     ]
    }
   ],
   "source": [
    "\n",
    "\n",
    "ms = [1,2,3,3,0]\n",
    "hps = [1,0,0,1,0,1]\n",
    "\n",
    "\n",
    "\n",
    "con = count_HP_2D_contacts_absolute(ms, hps)\n"
   ]
  },
  {
   "cell_type": "code",
   "execution_count": null,
   "metadata": {},
   "outputs": [],
   "source": [
    "def differential_evolution(F, dim, CR, weight, init_pop, mode=None):\n",
    "    #generate population with N>=4\n",
    "    \n",
    "    return None"
   ]
  },
  {
   "cell_type": "code",
   "execution_count": null,
   "metadata": {},
   "outputs": [],
   "source": []
  }
 ],
 "metadata": {
  "kernelspec": {
   "display_name": "Python 3",
   "language": "python",
   "name": "python3"
  },
  "language_info": {
   "codemirror_mode": {
    "name": "ipython",
    "version": 3
   },
   "file_extension": ".py",
   "mimetype": "text/x-python",
   "name": "python",
   "nbconvert_exporter": "python",
   "pygments_lexer": "ipython3",
   "version": "3.6.6"
  }
 },
 "nbformat": 4,
 "nbformat_minor": 2
}
